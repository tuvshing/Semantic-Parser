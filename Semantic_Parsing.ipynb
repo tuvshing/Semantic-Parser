{
  "cells": [
    {
      "cell_type": "markdown",
      "metadata": {
        "id": "2FuO82RTBftK"
      },
      "source": [
        "# Semantic Parsing\n",
        "\n",
        "Building a simple virtual assistant with two modules: an intent classifier and a slot filler.\n",
        "\n",
        "Go to https://drive.google.com/drive/folders/1JqAnRSkJqAWlHQRR8tN9is3vKZ-4VKWM?usp=sharing and click add shortcut to drive. This will add the data required for this problem set to your Google drive.\n",
        "\n",
        "<img src=\"https://drive.google.com/uc?id=1LqHisiziX8Ri94Xs6Cv8mhx6vivFM3kS\" alt=\"Drawing\" height=\"300\"/>\n"
      ]
    },
    {
      "cell_type": "markdown",
      "metadata": {
        "id": "UtZEcHthBeXz"
      },
      "source": [
        "Run the below code snippet. It will generate a URL which generates an authorization code.* Enter it below to give Colab access to your Google drive. \n",
        "\n",
        "*Copy function may not work. If so, manually copy the authorization code."
      ]
    },
    {
      "cell_type": "code",
      "execution_count": null,
      "metadata": {
        "colab": {
          "base_uri": "https://localhost:8080/"
        },
        "id": "KW-dce7oJlyr",
        "outputId": "6275ea1b-ceb7-42ff-c3c3-a3be0cb3723b"
      },
      "outputs": [
        {
          "name": "stdout",
          "output_type": "stream",
          "text": [
            "Mounted at /content/drive/\n"
          ]
        }
      ],
      "source": [
        "from google.colab import drive\n",
        "drive.mount('/content/drive/', force_remount=True)"
      ]
    },
    {
      "cell_type": "markdown",
      "source": [
        "Loading the train questions and answers"
      ],
      "metadata": {
        "id": "rCyQNEc45YwO"
      }
    },
    {
      "cell_type": "code",
      "execution_count": null,
      "metadata": {
        "colab": {
          "base_uri": "https://localhost:8080/"
        },
        "id": "LbtOC6eecMNp",
        "outputId": "f6ef7f0f-27e7-4192-cdc1-8979d420a130"
      },
      "outputs": [
        {
          "name": "stdout",
          "output_type": "stream",
          "text": [
            "{'question': 'Add an album to my Sylvia Plath playlist.', 'intent': 'AddToPlaylist', 'slots': {'music_item': 'album', 'playlist_owner': 'my', 'playlist': 'Sylvia Plath'}}\n",
            "--------------------------------------------------------------------------------\n",
            "{'question': 'add Diarios de Bicicleta to my la la playlist', 'intent': 'AddToPlaylist', 'slots': {'playlist': 'Diarios de Bicicleta', 'playlist_owner': 'my', 'entity_name': 'la la'}}\n",
            "--------------------------------------------------------------------------------\n",
            "{'question': 'book a table at a restaurant in Lucerne Valley that serves chicken nugget', 'intent': 'BookRestaurant', 'slots': {'restaurant_type': 'restaurant', 'city': 'Lucerne Valley', 'served_dish': 'chicken nugget'}}\n",
            "--------------------------------------------------------------------------------\n",
            "{'question': 'add iemand als jij to my playlist named In The Name Of Blues', 'intent': 'AddToPlaylist', 'slots': {'entity_name': 'iemand als jij', 'playlist_owner': 'my', 'playlist': 'In The Name Of Blues'}}\n",
            "--------------------------------------------------------------------------------\n",
            "{'question': 'What will the weather be in the current position on Dec. 23?', 'intent': 'GetWeather', 'slots': {'current_location': 'current position', 'timeRange': 'Dec. 23'}}\n",
            "--------------------------------------------------------------------------------\n"
          ]
        }
      ],
      "source": [
        "import json\n",
        "\n",
        "train_data = []\n",
        "for line in open(f'{parser_files}/train_questions_answers.txt'):\n",
        "    train_data.append(json.loads(line))\n",
        "\n",
        "# print a few examples\n",
        "for i in range(5):\n",
        "    print(train_data[i])\n",
        "    print(\"-\"*80)"
      ]
    },
    {
      "cell_type": "code",
      "execution_count": null,
      "metadata": {
        "colab": {
          "base_uri": "https://localhost:8080/"
        },
        "id": "BMV-NkkAb6X3",
        "outputId": "7b1ea891-fdfb-4f1b-a05a-f808624da12d"
      },
      "outputs": [
        {
          "name": "stdout",
          "output_type": "stream",
          "text": [
            "Add an artist to Jukebox Boogie Rhythm & Blues\n",
            "{'intent': 'AddToPlaylist', 'slots': {'music_item': 'artist', 'playlist': 'Jukebox Boogie Rhythm & Blues'}}\n",
            "--------------------------------------------------------------------------------\n",
            "Will it be rainy at Sunrise in Ramey Saudi Arabia?\n",
            "{'intent': 'GetWeather', 'slots': {'condition_description': 'rainy', 'timeRange': 'Sunrise', 'city': 'Ramey', 'country': 'Saudi Arabia'}}\n",
            "--------------------------------------------------------------------------------\n",
            "Weather in two hours  in Uzbekistan\n",
            "{'intent': 'GetWeather', 'slots': {'timeRange': 'in two hours', 'country': 'Uzbekistan'}}\n",
            "--------------------------------------------------------------------------------\n",
            "Will there be a cloud in VI in 14 minutes ?\n",
            "{'intent': 'GetWeather', 'slots': {'condition_description': 'cloud', 'state': 'VI', 'timeRange': 'in 14 minutes'}}\n",
            "--------------------------------------------------------------------------------\n",
            "add nuba to my Metal Party playlist\n",
            "{'intent': 'AddToPlaylist', 'slots': {'entity_name': 'nuba', 'playlist_owner': 'my', 'playlist': 'Metal Party'}}\n",
            "--------------------------------------------------------------------------------\n"
          ]
        }
      ],
      "source": [
        "test_questions = []\n",
        "for line in open(f'{parser_files}/test_questions.txt'):\n",
        "    test_questions.append(json.loads(line))\n",
        "\n",
        "test_answers = []\n",
        "for line in open(f'{parser_files}/test_answers.txt'):\n",
        "    test_answers.append(json.loads(line))\n",
        "\n",
        "# print a few examples\n",
        "for i in range(5):\n",
        "    print(test_questions[i])\n",
        "    print(test_answers[i])\n",
        "    print(\"-\"*80)"
      ]
    },
    {
      "cell_type": "markdown",
      "metadata": {
        "id": "hLUozTj613Tk"
      },
      "source": [
        "## 1: Keyword-based intent classifier\n",
        "\n",
        "Building a keyword-based intent classifier. Assigns a list of keywords for each intent, and then classifies a given question into an intent. If an input question matches multiple intents, picks the best one. If it does not match any keyword, returns None."
      ]
    },
    {
      "cell_type": "code",
      "execution_count": null,
      "metadata": {
        "colab": {
          "base_uri": "https://localhost:8080/"
        },
        "id": "fIOcz3lC4VqP",
        "outputId": "5f05961b-00cf-4f6e-ce11-9d7ae23cce9f"
      },
      "outputs": [
        {
          "name": "stdout",
          "output_type": "stream",
          "text": [
            "{'BookRestaurant', 'GetWeather', 'AddToPlaylist'}\n"
          ]
        }
      ],
      "source": [
        "# List of all intents\n",
        "intents = set()\n",
        "for example in train_data:\n",
        "    intents.add(example['intent'])\n",
        "print(intents)"
      ]
    },
    {
      "cell_type": "code",
      "execution_count": null,
      "metadata": {
        "id": "LmpLWuCO46NG"
      },
      "outputs": [],
      "source": [
        "def predict_intent_using_keywords(question):\n",
        "  q = question.lower()\n",
        "  resto = ['restaurant', 'table', 'food', 'book']\n",
        "  weather = ['cold', 'hot', 'warm', 'humid', 'weather', 'rain', 'snow', 'blizzard', 'wind', 'storm', 'temperature', 'cloud', 'sunny', 'forecast', 'fog', 'smog']\n",
        "  playlist = ['playlist', 'artist', 'music', 'album', 'song', 'tune', 'guitar', 'track']\n",
        "\n",
        "  if any(x in q for x in resto):\n",
        "    return 'BookRestaurant'\n",
        "  elif any(x in q for x in weather):\n",
        "    return 'GetWeather'\n",
        "  elif any(x in q for x in playlist):\n",
        "    return 'AddToPlaylist'"
      ]
    },
    {
      "cell_type": "markdown",
      "source": [
        "Evaluate the accuracy of the keyword based intent classifier:"
      ],
      "metadata": {
        "id": "shSW_e2X6HcF"
      }
    },
    {
      "cell_type": "code",
      "execution_count": null,
      "metadata": {
        "colab": {
          "base_uri": "https://localhost:8080/"
        },
        "id": "BSNHoHR16jk9",
        "outputId": "45677310-8c19-40a5-d10e-797b274b10a9"
      },
      "outputs": [
        {
          "name": "stdout",
          "output_type": "stream",
          "text": [
            "BookRestaurant 0.97 100\n",
            "GetWeather 0.91 100\n",
            "AddToPlaylist 0.92 100\n"
          ]
        }
      ],
      "source": [
        "from collections import Counter\n",
        "\n",
        "'''Gives intent wise accuracy of the model'''\n",
        "def evaluate_intent_accuracy(prediction_function_name):\n",
        "  correct = Counter()\n",
        "  total = Counter()\n",
        "  for i in range(len(test_questions)):\n",
        "    q = test_questions[i]\n",
        "    gold_intent = test_answers[i]['intent']\n",
        "    if prediction_function_name(q) == gold_intent:\n",
        "      correct[gold_intent] += 1\n",
        "    total[gold_intent] += 1\n",
        "  for intent in intents:\n",
        "    print(intent, correct[intent]/total[intent], total[intent])\n",
        "    \n",
        "# Evaluating the intent classifier. \n",
        "evaluate_intent_accuracy(predict_intent_using_keywords)"
      ]
    },
    {
      "cell_type": "markdown",
      "metadata": {
        "id": "RzV5NYJe-rbm"
      },
      "source": [
        "## 2: Statistical intent classifier"
      ]
    },
    {
      "cell_type": "markdown",
      "metadata": {
        "id": "jizp2fxbb6X5"
      },
      "source": [
        "Instead of making use of keywords, extract features from a given input question.Uses word2vec embeddings of each word and take an average to represent the sentence to build a feature representation for a given sentence. Then trains a logistic regression."
      ]
    },
    {
      "cell_type": "code",
      "execution_count": null,
      "metadata": {
        "colab": {
          "base_uri": "https://localhost:8080/"
        },
        "id": "GPd4QZBhGOsm",
        "outputId": "5e99753e-acb9-4791-f1d2-309d71ddc53f"
      },
      "outputs": [
        {
          "name": "stdout",
          "output_type": "stream",
          "text": [
            "[nltk_data] Downloading package word2vec_sample to /root/nltk_data...\n",
            "[nltk_data]   Unzipping models/word2vec_sample.zip.\n"
          ]
        },
        {
          "data": {
            "text/plain": [
              "True"
            ]
          },
          "execution_count": 13,
          "metadata": {},
          "output_type": "execute_result"
        }
      ],
      "source": [
        "import nltk\n",
        "nltk.download('word2vec_sample')"
      ]
    },
    {
      "cell_type": "code",
      "execution_count": null,
      "metadata": {
        "id": "8iys8Cb3An3x"
      },
      "outputs": [],
      "source": [
        "from nltk.data import find\n",
        "import gensim\n",
        "\n",
        "word2vec_sample = str(find('models/word2vec_sample/pruned.word2vec.txt'))\n",
        "word2vec_model = gensim.models.KeyedVectors.load_word2vec_format(word2vec_sample, binary=False)"
      ]
    },
    {
      "cell_type": "code",
      "execution_count": null,
      "metadata": {
        "colab": {
          "base_uri": "https://localhost:8080/"
        },
        "id": "zS5Kn2IC2i_Y",
        "outputId": "10c8e501-ee82-4118-d7c2-0ec7730cfdab"
      },
      "outputs": [
        {
          "name": "stdout",
          "output_type": "stream",
          "text": [
            "[nltk_data] Downloading package punkt to /root/nltk_data...\n",
            "[nltk_data]   Unzipping tokenizers/punkt.zip.\n"
          ]
        },
        {
          "data": {
            "text/plain": [
              "True"
            ]
          },
          "execution_count": 15,
          "metadata": {},
          "output_type": "execute_result"
        }
      ],
      "source": [
        "nltk.download('punkt')"
      ]
    },
    {
      "cell_type": "code",
      "execution_count": null,
      "metadata": {
        "id": "mpk3_JtMb6X6"
      },
      "outputs": [],
      "source": [
        "'''Trains a logistic regression model on the entire training data. For an input question (x), the model learns to predict an intent (Y).'''\n",
        "from nltk.tokenize import word_tokenize\n",
        "from sklearn.linear_model import LogisticRegression\n",
        "import numpy as np\n",
        "def train_logistic_regression_intent_classifier():\n",
        "  doc = train_data\n",
        "  intents = []\n",
        "  questions = []\n",
        "  for i in doc:\n",
        "    tokenized = word_tokenize(i['question'])\n",
        "    temp = [word for word in tokenized if word in word2vec_model.vocab]\n",
        "    questions.append(np.mean(word2vec_model[temp], axis=0))\n",
        "    tmp = 0\n",
        "    if i['intent'] == 'GetWeather':\n",
        "      tmp = 1\n",
        "    elif i['intent'] == 'AddToPlaylist':\n",
        "      tmp = 2\n",
        "    elif i['intent'] == 'BookRestaurant':\n",
        "      tmp = 3\n",
        "    intents.append(tmp)\n",
        "\n",
        "  questions = np.array(questions)\n",
        "  res = LogisticRegression(random_state=0).fit(questions, intents)\n",
        "\n",
        "  return res\n",
        "logisticReg = train_logistic_regression_intent_classifier()"
      ]
    },
    {
      "cell_type": "code",
      "execution_count": null,
      "metadata": {
        "id": "q_1lHAw9b6X6"
      },
      "outputs": [],
      "source": [
        "'''For an input question, the model predicts an intent'''\n",
        "def predict_intent_using_logistic_regression(question):\n",
        "    q = word_tokenize(question)\n",
        "    weights = []\n",
        "\n",
        "    tempDoc = [word for word in q if word in word2vec_model.vocab]\n",
        "    weights = np.mean(word2vec_model[tempDoc], axis=0)\n",
        "    x = logisticReg.predict(weights.reshape(1, -1))\n",
        "    if x == 1:\n",
        "      return 'GetWeather'\n",
        "    elif x == 2:\n",
        "      return 'AddToPlaylist'\n",
        "    elif x == 3:\n",
        "      return 'BookRestaurant'"
      ]
    },
    {
      "cell_type": "code",
      "execution_count": null,
      "metadata": {
        "colab": {
          "base_uri": "https://localhost:8080/"
        },
        "id": "yBwjBJoUb6X7",
        "outputId": "5a2af23c-85d3-4153-988a-b936f8dc9c85"
      },
      "outputs": [
        {
          "name": "stdout",
          "output_type": "stream",
          "text": [
            "BookRestaurant 1.0 100\n",
            "GetWeather 1.0 100\n",
            "AddToPlaylist 1.0 100\n"
          ]
        }
      ],
      "source": [
        "# Evaluate the intent classifier\n",
        "evaluate_intent_accuracy(predict_intent_using_logistic_regression)"
      ]
    },
    {
      "cell_type": "markdown",
      "metadata": {
        "id": "UUnGNOHNXbSN"
      },
      "source": [
        "## 3: Slot filling"
      ]
    },
    {
      "cell_type": "markdown",
      "metadata": {
        "id": "ONXIMs6_b6X7"
      },
      "source": [
        "Building a slot filling model with `AddToPlaylist` intent."
      ]
    },
    {
      "cell_type": "code",
      "execution_count": null,
      "metadata": {
        "colab": {
          "base_uri": "https://localhost:8080/"
        },
        "id": "xpg1x-qeb6X7",
        "outputId": "56edbf03-81e2-419b-b269-588c5690ad52"
      },
      "outputs": [
        {
          "name": "stdout",
          "output_type": "stream",
          "text": [
            "{'playlist_owner', 'entity_name', 'artist', 'playlist', 'music_item'}\n",
            "100\n"
          ]
        }
      ],
      "source": [
        "# Let's stick to one target intent.\n",
        "target_intent = \"AddToPlaylist\"\n",
        "\n",
        "# This intent has the following slots\n",
        "target_intent_slot_names = set()\n",
        "for sample in train_data:\n",
        "    if sample['intent'] == target_intent:\n",
        "        for slot_name in sample['slots']:\n",
        "            target_intent_slot_names.add(slot_name)\n",
        "print(target_intent_slot_names)\n",
        "\n",
        "\n",
        "# Extract all the relevant questions of this target intent from the test examples.\n",
        "target_intent_questions = [] \n",
        "for i, question in enumerate(test_questions):\n",
        "    if test_answers[i]['intent'] == target_intent:\n",
        "        target_intent_questions.append(question)\n",
        "print(len(target_intent_questions))"
      ]
    },
    {
      "cell_type": "code",
      "execution_count": null,
      "metadata": {
        "id": "cLdC-dYWWLqY"
      },
      "outputs": [],
      "source": [
        "import re\n",
        "# Getting all slot values for each slot\n",
        "slot_values = {}\n",
        "for sample in train_data:\n",
        "    if sample['intent'] == target_intent:\n",
        "        for slot_name in sample['slots']:\n",
        "            if slot_name in slot_values:\n",
        "              slot_values[slot_name].append(sample['slots'][slot_name].lower())\n",
        "            else:\n",
        "              slot_values[slot_name] = [sample['slots'][slot_name].lower()]\n",
        "for i in slot_values:\n",
        "  slot_values[i] = list(set(slot_values[i]))"
      ]
    },
    {
      "cell_type": "code",
      "execution_count": null,
      "metadata": {
        "colab": {
          "base_uri": "https://localhost:8080/"
        },
        "id": "A7_ldSKob6X8",
        "outputId": "8d76bd55-c063-4a23-ff7d-a9aa78820311"
      },
      "outputs": [
        {
          "name": "stdout",
          "output_type": "stream",
          "text": [
            "Slot accuracy for your slot prediction model\n",
            "playlist_owner: 0.9444444444444444\n",
            "entity_name: 0.05555555555555555\n",
            "artist: 0.10869565217391304\n",
            "playlist: 0.71\n",
            "music_item: 1.0\n"
          ]
        }
      ],
      "source": [
        "def initialize_slots():\n",
        "    slots = {}\n",
        "    for slot_name in target_intent_slot_names:\n",
        "        slots[slot_name] = None\n",
        "    return slots\n",
        "\n",
        "def predict_slot_values(question):\n",
        "    question = question.lower()\n",
        "    slots = initialize_slots()   \n",
        "    \n",
        "    for slot_name in target_intent_slot_names:\n",
        "      for value in slot_values[slot_name]:   \n",
        "        if value in question:\n",
        "          slots[slot_name] = value\n",
        "    return slots\n",
        "\n",
        "\n",
        "def evaluate_slot_prediction_recall(slot_prediction_function):\n",
        "    correct = Counter()\n",
        "    total = Counter()\n",
        "    # predict slots for each question\n",
        "    for i, question in enumerate(target_intent_questions):\n",
        "        i = test_questions.index(question)\n",
        "        gold_slots = test_answers[i]['slots']\n",
        "        predicted_slots = slot_prediction_function(question)\n",
        "        for name in target_intent_slot_names:\n",
        "            if name in gold_slots:\n",
        "                total[name] += 1.0\n",
        "                if predicted_slots.get(name, None) != None and predicted_slots.get(name).lower() == gold_slots.get(name).lower():\n",
        "                    correct[name] += 1.0\n",
        "    for name in target_intent_slot_names:\n",
        "        print(f\"{name}: {correct[name] / total[name]}\")\n",
        "\n",
        "# Evaluate the slot prediction model      \n",
        "print(\"Slot accuracy for the slot prediction model\")\n",
        "evaluate_slot_prediction_recall(predict_slot_values)\n"
      ]
    },
    {
      "cell_type": "code",
      "execution_count": null,
      "metadata": {
        "colab": {
          "base_uri": "https://localhost:8080/"
        },
        "id": "Lm4reFpdb6X8",
        "outputId": "1385a49c-db6b-40f7-cde7-ff3e48d43b9b"
      },
      "outputs": [
        {
          "name": "stdout",
          "output_type": "stream",
          "text": [
            "If the slot has no value then there is no true positive prediction for that slot\n",
            "\n",
            "Question:  add nuba to my Metal Party playlist\n",
            "True slots:  {'entity_name': 'nuba', 'playlist_owner': 'my', 'playlist': 'Metal Party'}\n",
            "Predicted:  playlist_owner : my\n",
            "--------------------------------------------------------------------------------\n",
            "Question:  Add give us rest to my 70s Smash Hits playlist.\n",
            "True slots:  {'entity_name': 'give us rest', 'playlist_owner': 'my', 'playlist': '70s Smash Hits'}\n",
            "Predicted:  entity_name : give us rest\n",
            "--------------------------------------------------------------------------------\n",
            "Question:  Add Roel van Velzen to my party of the century playlist.\n",
            "True slots:  {'artist': 'Roel van Velzen', 'playlist_owner': 'my', 'playlist': 'party of the century'}\n",
            "Predicted:  artist : roel van velzen\n",
            "--------------------------------------------------------------------------------\n",
            "Question:  Add an artist to Jukebox Boogie Rhythm & Blues\n",
            "True slots:  {'music_item': 'artist', 'playlist': 'Jukebox Boogie Rhythm & Blues'}\n",
            "Predicted:  playlist : jukebox boogie rhythm & blues\n",
            "--------------------------------------------------------------------------------\n",
            "Question:  Add an artist to Jukebox Boogie Rhythm & Blues\n",
            "True slots:  {'music_item': 'artist', 'playlist': 'Jukebox Boogie Rhythm & Blues'}\n",
            "Predicted:  music_item : artist\n",
            "--------------------------------------------------------------------------------\n"
          ]
        }
      ],
      "source": [
        "# Find a true positive prediction for each slot\n",
        "print('If the slot has no value then there is no true positive prediction for that slot\\n')\n",
        "for slotNames in target_intent_slot_names:\n",
        "  var = False\n",
        "  for i in range(300):\n",
        "    if test_answers[i]['intent'] == 'AddToPlaylist': \n",
        "      if var == False and slotNames in test_answers[i]['slots'] and predict_slot_values(test_questions[i])[slotNames] is not None:    \n",
        "        print(\"Question: \", test_questions[i]) \n",
        "        print(\"True slots: \",test_answers[i]['slots'])\n",
        "        print(\"Predicted: \", slotNames, \":\", predict_slot_values(test_questions[i])[slotNames])\n",
        "        print('-'*80)\n",
        "        var = True"
      ]
    },
    {
      "cell_type": "code",
      "execution_count": null,
      "metadata": {
        "colab": {
          "base_uri": "https://localhost:8080/"
        },
        "id": "TUo4NblMb6X8",
        "outputId": "0252303e-e9e2-4b55-e5d8-c43158ba2498"
      },
      "outputs": [
        {
          "name": "stdout",
          "output_type": "stream",
          "text": [
            "If the slot has no value then there is no false positive prediction for that slot\n",
            "\n",
            "Question:  add tommy johnson to The MetalSucks Playlist\n",
            "True slots:  {'artist': 'tommy johnson', 'playlist': 'The MetalSucks Playlist'}\n",
            "Predicted:  playlist_owner : my\n",
            "--------------------------------------------------------------------------------\n",
            "Question:  Can you put this song from Yutaka Ozaki onto my this is miles davis playlist?\n",
            "True slots:  {'music_item': 'song', 'artist': 'Yutaka Ozaki', 'playlist_owner': 'my', 'playlist': 'this is miles davis'}\n",
            "Predicted:  entity_name : om\n",
            "--------------------------------------------------------------------------------\n",
            "Question:  add ireland in the junior eurovision song contest 2015 to my Jazzy Dinner playlist\n",
            "True slots:  {'entity_name': 'ireland in the junior eurovision song contest 2015', 'playlist_owner': 'my', 'playlist': 'Jazzy Dinner'}\n",
            "Predicted:  music_item : song\n",
            "--------------------------------------------------------------------------------\n"
          ]
        }
      ],
      "source": [
        "# Find a false positive prediction for each slot\n",
        "print('If the slot has no value then there is no false positive prediction for that slot\\n')\n",
        "for slotNames in target_intent_slot_names:\n",
        "  var = False\n",
        "  for i in range(300):\n",
        "    if test_answers[i]['intent'] == 'AddToPlaylist': \n",
        "      if var == False and slotNames not in test_answers[i]['slots'] and predict_slot_values(test_questions[i])[slotNames] is not None:    \n",
        "        print(\"Question: \", test_questions[i]) \n",
        "        print(\"True slots: \",test_answers[i]['slots'])\n",
        "        print(\"Predicted: \", slotNames, \":\", predict_slot_values(test_questions[i])[slotNames])\n",
        "        print('-'*80)\n",
        "        var = True"
      ]
    },
    {
      "cell_type": "code",
      "execution_count": null,
      "metadata": {
        "colab": {
          "base_uri": "https://localhost:8080/"
        },
        "id": "yQjb1-TCb6X8",
        "outputId": "abbac42d-d442-44b7-bda4-1a889f1e4189"
      },
      "outputs": [
        {
          "name": "stdout",
          "output_type": "stream",
          "text": [
            "If the slot has no value then there is no true negative prediction for that slot\n",
            "\n",
            "Question:  Add an artist to Jukebox Boogie Rhythm & Blues\n",
            "True slots:  {'music_item': 'artist', 'playlist': 'Jukebox Boogie Rhythm & Blues'}\n",
            "Predicted:  playlist_owner : None\n",
            "--------------------------------------------------------------------------------\n",
            "Question:  Add an artist to Jukebox Boogie Rhythm & Blues\n",
            "True slots:  {'music_item': 'artist', 'playlist': 'Jukebox Boogie Rhythm & Blues'}\n",
            "Predicted:  entity_name : None\n",
            "--------------------------------------------------------------------------------\n",
            "Question:  Add an artist to Jukebox Boogie Rhythm & Blues\n",
            "True slots:  {'music_item': 'artist', 'playlist': 'Jukebox Boogie Rhythm & Blues'}\n",
            "Predicted:  artist : None\n",
            "--------------------------------------------------------------------------------\n",
            "Question:  add nuba to my Metal Party playlist\n",
            "True slots:  {'entity_name': 'nuba', 'playlist_owner': 'my', 'playlist': 'Metal Party'}\n",
            "Predicted:  music_item : None\n",
            "--------------------------------------------------------------------------------\n"
          ]
        }
      ],
      "source": [
        "# Find a true negative prediction for each slot\n",
        "print('If the slot has no value then there is no true negative prediction for that slot\\n')\n",
        "for slotNames in target_intent_slot_names:\n",
        "  var = False\n",
        "  for i in range(300):\n",
        "    if test_answers[i]['intent'] == 'AddToPlaylist': \n",
        "      if var == False and slotNames not in test_answers[i]['slots'] and predict_slot_values(test_questions[i])[slotNames] is None:    \n",
        "        print(\"Question: \", test_questions[i]) \n",
        "        print(\"True slots: \",test_answers[i]['slots'])\n",
        "        print(\"Predicted: \", slotNames, \":\", predict_slot_values(test_questions[i])[slotNames])\n",
        "        print('-'*80)\n",
        "        var = True"
      ]
    },
    {
      "cell_type": "code",
      "execution_count": null,
      "metadata": {
        "colab": {
          "base_uri": "https://localhost:8080/"
        },
        "id": "UJHTfEMqb6X8",
        "outputId": "410f104d-e2f5-493e-f6da-116ea2a0aa8c"
      },
      "outputs": [
        {
          "name": "stdout",
          "output_type": "stream",
          "text": [
            "If the slot has no value then there is no false negative prediction for that slot\n",
            "\n",
            "Question:  Onto jerry's Classical Moments in Movies, please add the album.\n",
            "True slots:  {'playlist_owner': \"jerry's\", 'playlist': 'Classical Moments in Movies', 'music_item': 'album'}\n",
            "Predicted:  playlist_owner : None\n",
            "--------------------------------------------------------------------------------\n",
            "Question:  add nuba to my Metal Party playlist\n",
            "True slots:  {'entity_name': 'nuba', 'playlist_owner': 'my', 'playlist': 'Metal Party'}\n",
            "Predicted:  entity_name : None\n",
            "--------------------------------------------------------------------------------\n",
            "Question:  Can you put this song from Yutaka Ozaki onto my this is miles davis playlist?\n",
            "True slots:  {'music_item': 'song', 'artist': 'Yutaka Ozaki', 'playlist_owner': 'my', 'playlist': 'this is miles davis'}\n",
            "Predicted:  artist : None\n",
            "--------------------------------------------------------------------------------\n",
            "Question:  Add the album to the The Sweet Suite playlist.\n",
            "True slots:  {'music_item': 'album', 'playlist': 'The Sweet Suite'}\n",
            "Predicted:  playlist : None\n",
            "--------------------------------------------------------------------------------\n"
          ]
        }
      ],
      "source": [
        "# Find a false negative prediction for each slot\n",
        "print('If the slot has no value then there is no false negative prediction for that slot\\n')\n",
        "for slotNames in target_intent_slot_names:\n",
        "  var = False\n",
        "  for i in range(300):\n",
        "    if test_answers[i]['intent'] == 'AddToPlaylist': \n",
        "      if var == False and slotNames in test_answers[i]['slots'] and predict_slot_values(test_questions[i])[slotNames] is None:    \n",
        "        print(\"Question: \", test_questions[i]) \n",
        "        print(\"True slots: \",test_answers[i]['slots'])\n",
        "        print(\"Predicted: \", slotNames, \":\", predict_slot_values(test_questions[i])[slotNames])\n",
        "        print('-'*80)\n",
        "        var = True"
      ]
    }
  ],
  "metadata": {
    "colab": {
      "collapsed_sections": [],
      "name": "Semantic Parsing.ipynb",
      "provenance": []
    },
    "kernelspec": {
      "display_name": "Python 3",
      "name": "python3"
    }
  },
  "nbformat": 4,
  "nbformat_minor": 0
}